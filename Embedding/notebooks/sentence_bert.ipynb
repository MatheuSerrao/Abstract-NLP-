{
 "cells": [
  {
   "cell_type": "code",
   "execution_count": 5,
   "metadata": {},
   "outputs": [],
   "source": [
    "import pickle5 as pickle\n",
    "import random\n",
    "import numpy as np\n",
    "\n",
    "with open('../tokens', 'rb') as pickle_file:\n",
    "    tokenized_sent = pickle.load(pickle_file)\n",
    "\n",
    "random.shuffle(tokenized_sent)\n",
    "\n",
    "def cosine(u, v):\n",
    "    return np.dot(u, v) / (np.linalg.norm(u) * np.linalg.norm(v))\n",
    "\n",
    "test_tokens = tokenized_sent[:10000]\n",
    "train_tokens = [(' '.join(token[2]), token[1]) for token in tokenized_sent[10000:]]"
   ]
  },
  {
   "cell_type": "code",
   "execution_count": 6,
   "metadata": {},
   "outputs": [
    {
     "name": "stdout",
     "output_type": "stream",
     "text": [
      "huggingface/tokenizers: The current process just got forked, after parallelism has already been used. Disabling parallelism to avoid deadlocks...\n",
      "To disable this warning, you can either:\n",
      "\t- Avoid using `tokenizers` before the fork if possible\n",
      "\t- Explicitly set the environment variable TOKENIZERS_PARALLELISM=(true | false)\n",
      "Defaulting to user installation because normal site-packages is not writeable\n",
      "Requirement already satisfied: sentence-transformers in /home/jk/.local/lib/python3.8/site-packages (2.2.0)\n",
      "Requirement already satisfied: numpy in /home/jk/.local/lib/python3.8/site-packages (from sentence-transformers) (1.22.3)\n",
      "Requirement already satisfied: torchvision in /home/jk/.local/lib/python3.8/site-packages (from sentence-transformers) (0.12.0)\n",
      "Requirement already satisfied: torch>=1.6.0 in /home/jk/.local/lib/python3.8/site-packages (from sentence-transformers) (1.11.0)\n",
      "Requirement already satisfied: transformers<5.0.0,>=4.6.0 in /home/jk/.local/lib/python3.8/site-packages (from sentence-transformers) (4.18.0)\n",
      "Requirement already satisfied: scikit-learn in /home/jk/.local/lib/python3.8/site-packages (from sentence-transformers) (1.0.2)\n",
      "Requirement already satisfied: nltk in /home/jk/.local/lib/python3.8/site-packages (from sentence-transformers) (3.7)\n",
      "Requirement already satisfied: sentencepiece in /home/jk/.local/lib/python3.8/site-packages (from sentence-transformers) (0.1.96)\n",
      "Requirement already satisfied: huggingface-hub in /home/jk/.local/lib/python3.8/site-packages (from sentence-transformers) (0.5.1)\n",
      "Requirement already satisfied: tqdm in /home/jk/.local/lib/python3.8/site-packages (from sentence-transformers) (4.64.0)\n",
      "Requirement already satisfied: scipy in /home/jk/.local/lib/python3.8/site-packages (from sentence-transformers) (1.8.0)\n",
      "Requirement already satisfied: typing-extensions in /home/jk/.local/lib/python3.8/site-packages (from torch>=1.6.0->sentence-transformers) (4.1.1)\n",
      "Requirement already satisfied: tokenizers!=0.11.3,<0.13,>=0.11.1 in /home/jk/.local/lib/python3.8/site-packages (from transformers<5.0.0,>=4.6.0->sentence-transformers) (0.12.1)\n",
      "Requirement already satisfied: filelock in /home/jk/.local/lib/python3.8/site-packages (from transformers<5.0.0,>=4.6.0->sentence-transformers) (3.6.0)\n",
      "Requirement already satisfied: regex!=2019.12.17 in /home/jk/.local/lib/python3.8/site-packages (from transformers<5.0.0,>=4.6.0->sentence-transformers) (2022.3.15)\n",
      "Requirement already satisfied: sacremoses in /home/jk/.local/lib/python3.8/site-packages (from transformers<5.0.0,>=4.6.0->sentence-transformers) (0.0.49)\n",
      "Requirement already satisfied: pyyaml>=5.1 in /home/jk/.local/lib/python3.8/site-packages (from transformers<5.0.0,>=4.6.0->sentence-transformers) (6.0)\n",
      "Requirement already satisfied: requests in /home/jk/.local/lib/python3.8/site-packages (from transformers<5.0.0,>=4.6.0->sentence-transformers) (2.27.1)\n",
      "Requirement already satisfied: packaging>=20.0 in /home/jk/.local/lib/python3.8/site-packages (from transformers<5.0.0,>=4.6.0->sentence-transformers) (21.3)\n",
      "Requirement already satisfied: click in /home/jk/.local/lib/python3.8/site-packages (from nltk->sentence-transformers) (8.1.2)\n",
      "Requirement already satisfied: joblib in /home/jk/.local/lib/python3.8/site-packages (from nltk->sentence-transformers) (1.1.0)\n",
      "Requirement already satisfied: threadpoolctl>=2.0.0 in /home/jk/.local/lib/python3.8/site-packages (from scikit-learn->sentence-transformers) (3.1.0)\n",
      "Requirement already satisfied: pillow!=8.3.*,>=5.3.0 in /home/jk/.local/lib/python3.8/site-packages (from torchvision->sentence-transformers) (9.1.0)\n",
      "Requirement already satisfied: pyparsing!=3.0.5,>=2.0.2 in /home/jk/.local/lib/python3.8/site-packages (from packaging>=20.0->transformers<5.0.0,>=4.6.0->sentence-transformers) (3.0.8)\n",
      "Requirement already satisfied: certifi>=2017.4.17 in /home/jk/.local/lib/python3.8/site-packages (from requests->transformers<5.0.0,>=4.6.0->sentence-transformers) (2021.10.8)\n",
      "Requirement already satisfied: urllib3<1.27,>=1.21.1 in /home/jk/.local/lib/python3.8/site-packages (from requests->transformers<5.0.0,>=4.6.0->sentence-transformers) (1.26.9)\n",
      "Requirement already satisfied: idna<4,>=2.5 in /home/jk/.local/lib/python3.8/site-packages (from requests->transformers<5.0.0,>=4.6.0->sentence-transformers) (3.3)\n",
      "Requirement already satisfied: charset-normalizer~=2.0.0 in /home/jk/.local/lib/python3.8/site-packages (from requests->transformers<5.0.0,>=4.6.0->sentence-transformers) (2.0.12)\n",
      "Requirement already satisfied: six in /home/jk/.local/lib/python3.8/site-packages (from sacremoses->transformers<5.0.0,>=4.6.0->sentence-transformers) (1.16.0)\n"
     ]
    }
   ],
   "source": [
    "!pip install sentence-transformers"
   ]
  },
  {
   "cell_type": "code",
   "execution_count": 7,
   "metadata": {},
   "outputs": [],
   "source": [
    "from sentence_transformers import SentenceTransformer\n",
    "model = SentenceTransformer('bert-base-nli-mean-tokens')"
   ]
  },
  {
   "cell_type": "code",
   "execution_count": 8,
   "metadata": {},
   "outputs": [],
   "source": [
    "sentence_embeddings = model.encode([i[0] for i in train_tokens])"
   ]
  },
  {
   "cell_type": "code",
   "execution_count": 9,
   "metadata": {},
   "outputs": [],
   "source": [
    "query = ''.join(test_tokens[0][2])\n",
    "query_vec = model.encode([query])[0]"
   ]
  },
  {
   "cell_type": "code",
   "execution_count": 10,
   "metadata": {},
   "outputs": [
    {
     "name": "stdout",
     "output_type": "stream",
     "text": [
      "Sentence =  ('uwb technology for wireless communications has been received attention for many years uwb antennas require characteristics that maintain good impedance matching and radiation patterns over a wide frequency range the uwb frequency range includes the already existing narrow band which can cause interference to the uwb system to minimize this interference we propose a notch band antenna that removes the 5g ghz ghz band using a split slit', '5g') ; similarity =  0.07734063\n",
      "Sentence =  ('generalized sparse nonnegative matrix factorization snmf has been proven useful in extracting information and representing sparse data with various types of probabilistic distributions from industrial applications recommender systems and social current solution approaches for generalized snmf are based on the manipulation of whole sparse matrices and factor matrices which will result in intermediate these approaches can not describe the and sparse matrices in mainstream industrial and big data platforms graphics processing unit gpu and in an online and scalable manner to overcome these issues an online scalable and snmf for cuda parallelization on gpu cusnmf and mcusnmf is proposed in this article first theoretical derivation is conducted which demonstrates that the cusnmf depends only on the products and sums of the involved feature tuples next the compactness which can follow the sparsity pattern of sparse matrices endows the cusnmf with online learning capability and the fine granularity gives it high parallelization potential on gpu and finally the performance results on several real industrial datasets demonstrate the linear scalability of the time overhead and the space requirement and the validity of the extension to online learning moreover cusnmf obtains speedup of 7x on a p100 gpu compared to that of the parallel approaches on a shared memory platform', 'big data') ; similarity =  0.06438587\n",
      "Sentence =  ('clustering techniques attempt to group objects with similar properties into a cluster clustering the nodes of an attributed graph in which each node is associated with a set of feature attributes has attracted significant attention graph convolutional networks gcns represent an effective approach for integrating the two complementary factors of node attributes and structural information for attributed graph clustering smoothness is an indicator for assessing the degree of similarity of feature representations among nearby nodes in a graph oversmoothing in gcns caused by unnecessarily high orders of graph convolution produces indistinguishable representations of nodes such that the nodes in a graph tend to be grouped into fewer clusters and pose a challenge due to the resulting performance drop in this study we propose a smoothness sensor for attributed graph clustering based on adaptive graph convolutions which senses the smoothness of a graph and adaptively terminates the current convolution once the smoothness is saturated to prevent oversmoothing furthermore as an alternative to smoothness a novel assessment of smoothness is proposed in which smoothness is computed in accordance with the neighborhood conditions of a given node at a certain order of graph convolution in addition a criterion is designed considering both the tightness within clusters and the separation between clusters to guide the entire neural network training process the experiments show that the proposed methods significantly outperform 13 other baselines in terms of different metrics across five benchmark datasets in addition an extensive study reveals the reasons for their effectiveness and efficiency', 'big data') ; similarity =  0.10286462\n",
      "Sentence =  ('this paper describes the experience in teaching protocol engineering to senior bachelor degree and master degree students at the university of indonesia ui during the last 15 years the development of convergence of computing and telecommunication which have been shown in the evolution of wan gsm 2g 3g wimax lte 4g up to 5 are triggered by worldwide competition and collaboration among researchers and engineers from all over the world open source software operating systems and network simulators have been used in many ways in improving the internet protocol the trend is going towards big data mining based on wireless sensor networks and crowdsourcing based information at the university of indonesia we have used and as the de facto open source network simulator in 2018 our work on the lorawan and blockchain are based on we have trained the next information infrastructure engineers using open source simulator meanwhile cellular communications are evolving toward the fifth generation 5g for testing the 5g network we use the openairinterface as the experimental platform to teach and to learn mobile communication networks in delivering networking course at the ui a comprehensive case study experience has led to a significant enhancement in teaching process capability of students to master networking skills the use of open source tools is more flexible cheaper and available to be used for protocol engineering we review the phases of installation contributed code development testing and functions of 5g technology using the openairinterface and we present the result of the comparison of those tools', '5g') ; similarity =  -0.12356697\n",
      "Sentence =  ('the paging functionality in new radio release 15 can be energy consuming especially if a ue is rarely paged or its paging occasion po suffers from a high false paging alarm rate therefore paging enhancements for ue power saving are being developed in new radio release in this work the concept of early paging indication epi where a ue is notified in advance of its po whether the ue has to monitor the po is examined as a result the ue can skip the synchronization phase prior to a po if the ue need not monitor the po the epi can be signaled via a downlink control information dci message carried in the physical downlink control channel or via a reference signal the secondary synchronization signal furthermore the epi may carry information to divide the ues sharing the same po into resulting in lower group paging rate and fewer false paging results show the epi can lead to 17 energy savings as compared to the release 15 basic paging procedure depending on the ue sinr radio conditions if the epi is complemented with information an additional 10 energy can be saved while also mitigating the impact of high group paging rates the epi can flexibly contain the indication and potentially also short message and other information and is therefore the preferred option', '5g') ; similarity =  0.038856514\n",
      "Sentence =  ('in future cellular networks licensed mobile network operators mnos will be able to dynamically allocate dedicated resources to third party service providers sps via an open market initiative known as network slicing in this paper we investigate the problem of resource reservation whereby the sp must reserve future resources slices from the mno in order to guarantee a minimum quality of service qos for its future traffic demands however the reservation of these resources will come at an additional cost to the sp which motivates the main objective of this paper to develop a strategy that will allow the sp to determine the optimal amount of resources it should reserve ahead of time so that its future qos constraints are met with minimal risk of revenue loss from over reservation to achieve our objective we formulate this problem into a time series prediction task and employ a approach using two machine learning concepts namely deep neural networks dnns and long memory lstm recurrent networks to minimise the amounts of reservations within a prediction context we find that our solutions demonstrate high performance against a data set containing cellular data bytes for the city of shanghai in addition we demonstrate the robustness of our designs by comparing their performance against a baseline solution based on the popular arima forecasting model', '5g') ; similarity =  0.04585616\n",
      "Sentence =  ('with the popularization of education informatization colleges and universities generally have information management systems which can manage school information teacher information student information and performance information and are equipped with special databases or data clusters to store this information how to effectively use these data to extract and mine valuable information from these data so as to provide schools and teachers with auxiliary and truly improve the level and quality of school running has become an issue worthy of attention the purpose of this paper is to design and implement the university management system based on big data technology this paper firstly summarizes the basic theory of big data and derives the core technology of big data data mining and other core technologies combined with the current university student management system in our country the status quo analysis of its problems and shortcomings on this basis combined with big data technology to design and analyze the college student management system this article systematically expounds the design and use of the database function modules and related technologies of the management system and conduct research through research methods such as comparison and field investigation experimental research shows that compared with the traditional college student management system the college student management system based on big data technology is more practical and more powerful', 'big data') ; similarity =  0.03661705\n",
      "Sentence =  ('a antenna is proposed for the 5g system the proposed structure consists of two metallic layers and one dielectric substrate including a patch with additional slots characteristic is produced using slotted patch method for proposed antenna an impedance bandwidth s11 db of ghz and ghz is achieved with the average gain of db and db at 28 ghz and 38 ghz respectively the radiation patterns and realized gain of the proposed antenna are also presented', '5g') ; similarity =  0.19276877\n",
      "Sentence =  ('considering that the current protocols in the evaluation of stretch marks are based on the visual clinical examination of the striated skin and in the measure of the same this article aims to assist the professionals of the dermatology through data for decision making in the diagnosis and of the treatment of the striations in order to do so a software supported by computational vision and machine learning techniques was developed aiming to collect images and analyze them to identify striae from a database of images annotated by specialists in dermatology color and texture attributes of the segments were extracted which were later classified by the random forest algorithm which presented a correct classification of the striae in addition metrics were analyzed that indicated that although the streak superpixels were correctly classified other classes were classified incorrectly', 'computer vision') ; similarity =  -0.030759383\n",
      "Sentence =  ('autonomous vehicle industry is making rapid progress in the development of commercial vehicles with higher levels of autonomy although the general advanced driver assistance system adas architecture is widely discussed limited details are available about the functionality of the modules and their interactions backed up by scientific justification this in turn limits the utilization of such architecture for pragmatic implementation a cognitive adas architecture for level 4 electrified vehicles evs is proposed variations for levels 3 and which are simply seen to be a combination of 3 and 4 with the primary fallback through a human driver and the secondary through an automated driving system are also presented a simulation framework is built for highway driving based on the proposed level 4 architecture for an enhanced tesla model it was concluded that the autonomous control provided a 23 energy economy increase on average compared to a human driver control through a detailed sensitivity analysis the optimal planning and energy management in addition to the positive impact on the ev battery motor and profiles are considered to contribute to this significant increase in the energy economy of an ev', 'autonomous vehicle') ; similarity =  0.004896362\n"
     ]
    }
   ],
   "source": [
    "for sent in train_tokens[:10]:\n",
    "  sim = cosine(query_vec, model.encode([sent])[0])\n",
    "  print(\"Sentence = \", sent, \"; similarity = \", sim)"
   ]
  },
  {
   "cell_type": "code",
   "execution_count": 11,
   "metadata": {},
   "outputs": [],
   "source": [
    "import numpy as np\n",
    "import pandas as pd\n",
    "results = []\n",
    "for token in tokenized_sent:\n",
    "    class_token = token[1]\n",
    "    token_embedding = model.encode([' '.join(token[2])])[0] \n",
    "\n",
    "    row = np.append(token_embedding, [class_token])\n",
    "    results.append(row)\n",
    "\n",
    "df = pd.DataFrame(results)\n",
    "df.to_csv('../dataframes/sentence_bert_embedding.csv', index=False, encoding='utf-8')"
   ]
  }
 ],
 "metadata": {
  "interpreter": {
   "hash": "949777d72b0d2535278d3dc13498b2535136f6dfe0678499012e853ee9abcab1"
  },
  "kernelspec": {
   "display_name": "Python 3.8.12 64-bit",
   "language": "python",
   "name": "python3"
  },
  "language_info": {
   "codemirror_mode": {
    "name": "ipython",
    "version": 3
   },
   "file_extension": ".py",
   "mimetype": "text/x-python",
   "name": "python",
   "nbconvert_exporter": "python",
   "pygments_lexer": "ipython3",
   "version": "3.8.12"
  },
  "orig_nbformat": 4
 },
 "nbformat": 4,
 "nbformat_minor": 2
}
