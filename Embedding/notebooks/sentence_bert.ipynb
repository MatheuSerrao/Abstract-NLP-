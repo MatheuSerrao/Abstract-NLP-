{
 "cells": [
  {
   "cell_type": "code",
   "execution_count": 1,
   "metadata": {},
   "outputs": [],
   "source": [
    "import pickle5 as pickle\n",
    "import random\n",
    "import numpy as np\n",
    "\n",
    "with open('../tokens', 'rb') as pickle_file:\n",
    "    tokenized_sent = pickle.load(pickle_file)\n",
    "\n",
    "random.shuffle(tokenized_sent)\n",
    "\n",
    "def cosine(u, v):\n",
    "    return np.dot(u, v) / (np.linalg.norm(u) * np.linalg.norm(v))\n",
    "\n",
    "test_tokens = tokenized_sent[:10000]\n",
    "train_tokens = [' '.join(token[2]) for token in tokenized_sent[10000:]]"
   ]
  },
  {
   "cell_type": "code",
   "execution_count": 2,
   "metadata": {},
   "outputs": [
    {
     "name": "stdout",
     "output_type": "stream",
     "text": [
      "Defaulting to user installation because normal site-packages is not writeable\n",
      "Requirement already satisfied: sentence-transformers in /home/jk/.local/lib/python3.8/site-packages (2.2.0)\n",
      "Requirement already satisfied: scipy in /home/jk/.local/lib/python3.8/site-packages (from sentence-transformers) (1.8.0)\n",
      "Requirement already satisfied: scikit-learn in /home/jk/.local/lib/python3.8/site-packages (from sentence-transformers) (1.0.2)\n",
      "Requirement already satisfied: huggingface-hub in /home/jk/.local/lib/python3.8/site-packages (from sentence-transformers) (0.5.1)\n",
      "Requirement already satisfied: torch>=1.6.0 in /home/jk/.local/lib/python3.8/site-packages (from sentence-transformers) (1.11.0)\n",
      "Requirement already satisfied: nltk in /home/jk/.local/lib/python3.8/site-packages (from sentence-transformers) (3.7)\n",
      "Requirement already satisfied: torchvision in /home/jk/.local/lib/python3.8/site-packages (from sentence-transformers) (0.12.0)\n",
      "Requirement already satisfied: numpy in /home/jk/.local/lib/python3.8/site-packages (from sentence-transformers) (1.22.3)\n",
      "Requirement already satisfied: transformers<5.0.0,>=4.6.0 in /home/jk/.local/lib/python3.8/site-packages (from sentence-transformers) (4.18.0)\n",
      "Requirement already satisfied: sentencepiece in /home/jk/.local/lib/python3.8/site-packages (from sentence-transformers) (0.1.96)\n",
      "Requirement already satisfied: tqdm in /home/jk/.local/lib/python3.8/site-packages (from sentence-transformers) (4.64.0)\n",
      "Requirement already satisfied: typing-extensions in /home/jk/.local/lib/python3.8/site-packages (from torch>=1.6.0->sentence-transformers) (4.1.1)\n",
      "Requirement already satisfied: regex!=2019.12.17 in /home/jk/.local/lib/python3.8/site-packages (from transformers<5.0.0,>=4.6.0->sentence-transformers) (2022.3.15)\n",
      "Requirement already satisfied: tokenizers!=0.11.3,<0.13,>=0.11.1 in /home/jk/.local/lib/python3.8/site-packages (from transformers<5.0.0,>=4.6.0->sentence-transformers) (0.11.6)\n",
      "Requirement already satisfied: requests in /home/jk/.local/lib/python3.8/site-packages (from transformers<5.0.0,>=4.6.0->sentence-transformers) (2.27.1)\n",
      "Requirement already satisfied: pyyaml>=5.1 in /home/jk/.local/lib/python3.8/site-packages (from transformers<5.0.0,>=4.6.0->sentence-transformers) (6.0)\n",
      "Requirement already satisfied: packaging>=20.0 in /home/jk/.local/lib/python3.8/site-packages (from transformers<5.0.0,>=4.6.0->sentence-transformers) (21.3)\n",
      "Requirement already satisfied: sacremoses in /home/jk/.local/lib/python3.8/site-packages (from transformers<5.0.0,>=4.6.0->sentence-transformers) (0.0.49)\n",
      "Requirement already satisfied: filelock in /home/jk/.local/lib/python3.8/site-packages (from transformers<5.0.0,>=4.6.0->sentence-transformers) (3.6.0)\n",
      "Requirement already satisfied: joblib in /home/jk/.local/lib/python3.8/site-packages (from nltk->sentence-transformers) (1.1.0)\n",
      "Requirement already satisfied: click in /home/jk/.local/lib/python3.8/site-packages (from nltk->sentence-transformers) (8.1.2)\n",
      "Requirement already satisfied: threadpoolctl>=2.0.0 in /home/jk/.local/lib/python3.8/site-packages (from scikit-learn->sentence-transformers) (3.1.0)\n",
      "Requirement already satisfied: pillow!=8.3.*,>=5.3.0 in /home/jk/.local/lib/python3.8/site-packages (from torchvision->sentence-transformers) (9.1.0)\n",
      "Requirement already satisfied: pyparsing!=3.0.5,>=2.0.2 in /home/jk/.local/lib/python3.8/site-packages (from packaging>=20.0->transformers<5.0.0,>=4.6.0->sentence-transformers) (3.0.8)\n",
      "Requirement already satisfied: idna<4,>=2.5 in /home/jk/.local/lib/python3.8/site-packages (from requests->transformers<5.0.0,>=4.6.0->sentence-transformers) (3.3)\n",
      "Requirement already satisfied: urllib3<1.27,>=1.21.1 in /home/jk/.local/lib/python3.8/site-packages (from requests->transformers<5.0.0,>=4.6.0->sentence-transformers) (1.26.9)\n",
      "Requirement already satisfied: certifi>=2017.4.17 in /home/jk/.local/lib/python3.8/site-packages (from requests->transformers<5.0.0,>=4.6.0->sentence-transformers) (2021.10.8)\n",
      "Requirement already satisfied: charset-normalizer~=2.0.0 in /home/jk/.local/lib/python3.8/site-packages (from requests->transformers<5.0.0,>=4.6.0->sentence-transformers) (2.0.12)\n",
      "Requirement already satisfied: six in /home/jk/.local/lib/python3.8/site-packages (from sacremoses->transformers<5.0.0,>=4.6.0->sentence-transformers) (1.16.0)\n"
     ]
    }
   ],
   "source": [
    "!pip install sentence-transformers"
   ]
  },
  {
   "cell_type": "code",
   "execution_count": 3,
   "metadata": {},
   "outputs": [
    {
     "name": "stderr",
     "output_type": "stream",
     "text": [
      "/home/jk/.local/lib/python3.8/site-packages/tqdm/auto.py:22: TqdmWarning: IProgress not found. Please update jupyter and ipywidgets. See https://ipywidgets.readthedocs.io/en/stable/user_install.html\n",
      "  from .autonotebook import tqdm as notebook_tqdm\n"
     ]
    }
   ],
   "source": [
    "from sentence_transformers import SentenceTransformer\n",
    "model = SentenceTransformer('bert-base-nli-mean-tokens')"
   ]
  },
  {
   "cell_type": "code",
   "execution_count": 4,
   "metadata": {},
   "outputs": [],
   "source": [
    "sentence_embeddings = model.encode(train_tokens)"
   ]
  },
  {
   "cell_type": "code",
   "execution_count": 8,
   "metadata": {},
   "outputs": [],
   "source": [
    "query = ''.join(test_tokens[0][2])\n",
    "query_vec = model.encode([query])[0]"
   ]
  },
  {
   "cell_type": "code",
   "execution_count": 11,
   "metadata": {},
   "outputs": [
    {
     "name": "stdout",
     "output_type": "stream",
     "text": [
      "Sentence =  we provide evidence that democracy has a positive effect on gdp per capita our dynamic panel strategy controls for country fixed effects and the rich dynamics of gdp which otherwise confound the effect of democracy to reduce measurement error we introduce a new indicator of democracy that consolidates previous measures our baseline results show that democratizations increase gdp per capita by about 20 percent in the long run we find similar effects using a propensity score reweighting strategy as well as an strategy using regional waves of democratization the effects are similar across different levels of development and appear to be driven by greater investments in capital schooling and health ; similarity =  -0.049868003\n",
      "Sentence =  lane detection the process of identifying lane markings as approximated curves is widely used for lane departure warning and adaptive cruise control in autonomous vehicles the popular pipeline that solves it in two feature extraction plus while useful is too inefficient and flawed in learning the global context and lanes long and thin structures to tackle these issues we propose an method that directly outputs parameters of a lane shape model using a network built with a transformer to learn richer structures and context the lane shape model is formulated based on road structures and camera pose providing physical interpretation for parameters of network output the transformer models interactions with a mechanism to capture slender structures and global context the proposed method is validated on the tusimple benchmark and shows accuracy with the most lightweight model size and fastest speed additionally our method shows excellent adaptability to a challenging lane detection dataset showing its powerful deployment potential in real applications codes are available at https ; similarity =  0.023522481\n",
      "Sentence =  this paper investigates the lane keeping control of autonomous ground vehicles agvs considering the rollover prevention and input saturation an enhanced state sliding mode control smc strategy is proposed to achieve the control purpose and maintain the lane keeping errors as well as the roll angle within the prescribed performance boundaries three contributions are made in this paper first a prescribed performance function ppf is proposed in the controller design aiming to implement the error transformation so as to constrain the controlled variables within the prescribed performance boundaries second a modified sliding surface is developed incorporating two nonlinear functions whose specialities and benefits are taken advantage of one is a barrier function to restrict the load transfer ratio ltr in a safe boundary to guarantee the roll stability another is a monotonely decreasing function to adaptively change the damping ratio of the system to improve the transient performance including reducing the transient overshoots and errors third a modified multivariable adaptive smc controller is proposed to achieve the integrated and roll control in the presence of the input saturation and disturbances the stability of the system is rigorously proved via the lyapunov function finally the effectiveness of the proposed control strategy is verified with a and model via the carsim platform ; similarity =  0.12762532\n",
      "Sentence =  in this study energy harvesting is performed using metamaterial structure as a type of metamaterial triangular shaped metamaterial structure which is pretty simple is preferred frequency used in 5g communication is used as the operating frequency firstly triangle shaped metamaterial is designed using the cst program which is an electromagnetic simulation program later a resistor has been added to perform energy harvesting on the open part of different metamaterials the simulation process is repeated by changing the design parameters until approximately resonance is achieved to the target frequency of after the desired frequency is obtained the most suitable resistance value for energy harvesting is determined as a result of energy harvesting is achieved with triangular shaped metamaterial in this study ; similarity =  0.08525856\n",
      "Sentence =  to study the functioning of a heterogeneous network with a high level of user mobility an imitation model has been developed using a large number of parameters and characteristics that allow describing existing network technologies using respectively mathematical predictive and optimization models ; similarity =  0.16798438\n",
      "Sentence =  this letter presents a wide band filtering antenna for 5g applications based on substrate integrated suspended line platform the filtering antenna mainly consists of a driven patch a stacked patch and a rectangular loop by adding a rectangular loop to the conventional patch antenna an additional resonance can be excited meanwhile the frequency selectivity of the lower band is obtained due to the formation of a radiation null then a patch is stacked on the driven patch which also generates an extra resonance mode and a radiation null at the upper band edge therefore a bandpass filtering function is realized and the bandwidth is greatly improved with three resonance frequency points the fractional bandwidth is from to ghz covering the specific 5g ghz moreover the height of the antenna is only λ 0 λ 0 is the wavelength in free space of the central operating frequency and the peak gain of the antenna is dbi it is worth mentioning that the whole design is since it is based on full fr4 substrates ; similarity =  0.044536512\n",
      "Sentence =  extracting the valuable features and information in big data has become one of the important research issues in data science in most internet of things iot applications the collected data are uncertain and imprecise due to sensor device variations or transmission errors in addition the sensing data may change as time evolves we refer an uncertain data stream as a dataset that has velocity veracity and volume properties simultaneously this paper employs the parallelism in edge computing environments to facilitate the dominating query process over multiple uncertain iot data streams the challenges of this problem include how to quickly update the result for processing uncertainty and reduce the computation cost as well as provide highly accurate results by referring to the related existing papers for certain data we provide an effective probabilistic dominating query process on uncertain data streams which can be parallelized easily after discussing the properties of the proposed approach we validate our methods through the complexity analysis and extensive simulated experiments in comparison with the existing works the experimental results indicate that our method can improve almost 60 computation time reduce nearly 20 communication cost between servers and provide highly accurate results in most scenarios ; similarity =  0.08214277\n",
      "Sentence =  to support popular internet of things iot applications such as virtual reality and mobile games edge computing provides a distributed computing archetype of centralized cloud computing with low latency and distributed data processing however it is challenging for multiple users to offload their computation tasks because they are competing for spectrum and computation as well as radio access technologies rat resources in this paper we investigate computation offloading mechanism of multiple selfish users with resource allocation in iot edge computing networks by formulating it as a stochastic game each user is a learning agent observing its local network environment to learn optimal decisions on either local computing or edge computing with a goal of minimizing long term system cost by choosing its transmit power level rat and without knowing any information of the other users since users decisions are coupling at the gateway we define the reward function of each user by considering the aggregated effect of other users therefore a reinforcement learning framework is developed to solve the game with the proposed independent learners based algorithm simulations demonstrate that the proposed algorithm is feasible to solve the formulated problem and is more energy efficient without extra cost on channel estimation at the centralized gateway finally compared with the other three benchmark algorithms it has better system cost performance and achieves distributed computation offloading ; similarity =  -0.054061208\n",
      "Sentence =  stract this chapter summarizes a brief history of transition of public safety networks from the analog system to future 5g networks 3rd generation partnership project presents different use cases and scenarios for public safety ps applications mainly based on the coverage area of cellular networks these scenarios are presented to support national security and ps services using d2d communications in cellular networks these scenarios can be categorized into three distinct types scenario scenario and scenario it is important to note that the scenarios presented in this section are for d2d communications only the chapter then summarizes standardization efforts made to support an inevitable convergence of ps communication networks across multiple regions further it anticipates that this convergence will not be limited to narrowband and broadband technologies but will also be influenced by recent trends on how people access information today ; similarity =  0.054864667\n",
      "Sentence =  eating disorders ed are considered as heterogeneous disorders with a complex multifactor etiology that involves biological and environmental interaction ; similarity =  0.1628671\n"
     ]
    }
   ],
   "source": [
    "for sent in train_tokens[:10]:\n",
    "  sim = cosine(query_vec, model.encode([sent])[0])\n",
    "  print(\"Sentence = \", sent, \"; similarity = \", sim)"
   ]
  }
 ],
 "metadata": {
  "interpreter": {
   "hash": "949777d72b0d2535278d3dc13498b2535136f6dfe0678499012e853ee9abcab1"
  },
  "kernelspec": {
   "display_name": "Python 3.8.12 64-bit",
   "language": "python",
   "name": "python3"
  },
  "language_info": {
   "codemirror_mode": {
    "name": "ipython",
    "version": 3
   },
   "file_extension": ".py",
   "mimetype": "text/x-python",
   "name": "python",
   "nbconvert_exporter": "python",
   "pygments_lexer": "ipython3",
   "version": "3.8.12"
  },
  "orig_nbformat": 4
 },
 "nbformat": 4,
 "nbformat_minor": 2
}
