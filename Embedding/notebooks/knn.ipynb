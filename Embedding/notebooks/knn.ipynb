{
 "cells": [
  {
   "cell_type": "code",
   "execution_count": 42,
   "metadata": {},
   "outputs": [],
   "source": [
    "import numpy as np\n",
    "import matplotlib.pyplot as plt\n",
    "import pandas as pd"
   ]
  },
  {
   "cell_type": "code",
   "execution_count": 43,
   "metadata": {},
   "outputs": [
    {
     "data": {
      "text/html": [
       "<div>\n",
       "<style scoped>\n",
       "    .dataframe tbody tr th:only-of-type {\n",
       "        vertical-align: middle;\n",
       "    }\n",
       "\n",
       "    .dataframe tbody tr th {\n",
       "        vertical-align: top;\n",
       "    }\n",
       "\n",
       "    .dataframe thead th {\n",
       "        text-align: right;\n",
       "    }\n",
       "</style>\n",
       "<table border=\"1\" class=\"dataframe\">\n",
       "  <thead>\n",
       "    <tr style=\"text-align: right;\">\n",
       "      <th></th>\n",
       "      <th>0</th>\n",
       "      <th>1</th>\n",
       "      <th>2</th>\n",
       "      <th>3</th>\n",
       "      <th>4</th>\n",
       "      <th>5</th>\n",
       "      <th>6</th>\n",
       "      <th>7</th>\n",
       "      <th>8</th>\n",
       "      <th>9</th>\n",
       "      <th>...</th>\n",
       "      <th>41</th>\n",
       "      <th>42</th>\n",
       "      <th>43</th>\n",
       "      <th>44</th>\n",
       "      <th>45</th>\n",
       "      <th>46</th>\n",
       "      <th>47</th>\n",
       "      <th>48</th>\n",
       "      <th>49</th>\n",
       "      <th>50</th>\n",
       "    </tr>\n",
       "  </thead>\n",
       "  <tbody>\n",
       "    <tr>\n",
       "      <th>0</th>\n",
       "      <td>2.006918</td>\n",
       "      <td>0.475260</td>\n",
       "      <td>2.533349</td>\n",
       "      <td>-0.547314</td>\n",
       "      <td>1.839901</td>\n",
       "      <td>0.480708</td>\n",
       "      <td>-1.371269</td>\n",
       "      <td>0.344498</td>\n",
       "      <td>-0.874812</td>\n",
       "      <td>0.006530</td>\n",
       "      <td>...</td>\n",
       "      <td>-1.938029</td>\n",
       "      <td>-1.270428</td>\n",
       "      <td>-0.673977</td>\n",
       "      <td>1.488535</td>\n",
       "      <td>-1.210708</td>\n",
       "      <td>0.018973</td>\n",
       "      <td>-2.066191</td>\n",
       "      <td>-2.047388</td>\n",
       "      <td>0.340610</td>\n",
       "      <td>computer vision</td>\n",
       "    </tr>\n",
       "    <tr>\n",
       "      <th>1</th>\n",
       "      <td>-1.121114</td>\n",
       "      <td>-0.079858</td>\n",
       "      <td>1.176407</td>\n",
       "      <td>1.838457</td>\n",
       "      <td>-0.643866</td>\n",
       "      <td>1.464561</td>\n",
       "      <td>1.980504</td>\n",
       "      <td>1.601531</td>\n",
       "      <td>-2.236448</td>\n",
       "      <td>-0.542896</td>\n",
       "      <td>...</td>\n",
       "      <td>-0.597759</td>\n",
       "      <td>-1.340720</td>\n",
       "      <td>-2.803389</td>\n",
       "      <td>2.953959</td>\n",
       "      <td>2.749169</td>\n",
       "      <td>-0.246176</td>\n",
       "      <td>0.167863</td>\n",
       "      <td>2.535898</td>\n",
       "      <td>2.245542</td>\n",
       "      <td>political</td>\n",
       "    </tr>\n",
       "    <tr>\n",
       "      <th>2</th>\n",
       "      <td>-0.568313</td>\n",
       "      <td>1.174308</td>\n",
       "      <td>1.701519</td>\n",
       "      <td>-0.404837</td>\n",
       "      <td>0.131735</td>\n",
       "      <td>1.160653</td>\n",
       "      <td>-1.027584</td>\n",
       "      <td>-0.188119</td>\n",
       "      <td>-0.467599</td>\n",
       "      <td>-0.438443</td>\n",
       "      <td>...</td>\n",
       "      <td>1.412459</td>\n",
       "      <td>-0.096511</td>\n",
       "      <td>-0.078653</td>\n",
       "      <td>0.320290</td>\n",
       "      <td>-0.105544</td>\n",
       "      <td>1.505233</td>\n",
       "      <td>-0.254141</td>\n",
       "      <td>-0.322210</td>\n",
       "      <td>1.313339</td>\n",
       "      <td>autonomous vehicle</td>\n",
       "    </tr>\n",
       "    <tr>\n",
       "      <th>3</th>\n",
       "      <td>0.961319</td>\n",
       "      <td>0.191656</td>\n",
       "      <td>0.334632</td>\n",
       "      <td>0.193879</td>\n",
       "      <td>0.552590</td>\n",
       "      <td>0.267899</td>\n",
       "      <td>-1.982957</td>\n",
       "      <td>0.645889</td>\n",
       "      <td>0.676048</td>\n",
       "      <td>0.659063</td>\n",
       "      <td>...</td>\n",
       "      <td>-0.524286</td>\n",
       "      <td>2.590564</td>\n",
       "      <td>1.319239</td>\n",
       "      <td>1.085825</td>\n",
       "      <td>2.282317</td>\n",
       "      <td>-1.031726</td>\n",
       "      <td>-0.018153</td>\n",
       "      <td>-0.474326</td>\n",
       "      <td>0.046656</td>\n",
       "      <td>computer vision</td>\n",
       "    </tr>\n",
       "    <tr>\n",
       "      <th>4</th>\n",
       "      <td>0.031784</td>\n",
       "      <td>0.415218</td>\n",
       "      <td>1.714118</td>\n",
       "      <td>-1.906597</td>\n",
       "      <td>-0.477352</td>\n",
       "      <td>-0.855979</td>\n",
       "      <td>-0.079660</td>\n",
       "      <td>0.510074</td>\n",
       "      <td>1.183520</td>\n",
       "      <td>-0.703154</td>\n",
       "      <td>...</td>\n",
       "      <td>1.316142</td>\n",
       "      <td>2.843449</td>\n",
       "      <td>0.487614</td>\n",
       "      <td>-0.336858</td>\n",
       "      <td>1.732589</td>\n",
       "      <td>0.694663</td>\n",
       "      <td>-0.933902</td>\n",
       "      <td>-1.002878</td>\n",
       "      <td>0.285510</td>\n",
       "      <td>computer vision</td>\n",
       "    </tr>\n",
       "  </tbody>\n",
       "</table>\n",
       "<p>5 rows × 51 columns</p>\n",
       "</div>"
      ],
      "text/plain": [
       "          0         1         2         3         4         5         6  \\\n",
       "0  2.006918  0.475260  2.533349 -0.547314  1.839901  0.480708 -1.371269   \n",
       "1 -1.121114 -0.079858  1.176407  1.838457 -0.643866  1.464561  1.980504   \n",
       "2 -0.568313  1.174308  1.701519 -0.404837  0.131735  1.160653 -1.027584   \n",
       "3  0.961319  0.191656  0.334632  0.193879  0.552590  0.267899 -1.982957   \n",
       "4  0.031784  0.415218  1.714118 -1.906597 -0.477352 -0.855979 -0.079660   \n",
       "\n",
       "          7         8         9  ...        41        42        43        44  \\\n",
       "0  0.344498 -0.874812  0.006530  ... -1.938029 -1.270428 -0.673977  1.488535   \n",
       "1  1.601531 -2.236448 -0.542896  ... -0.597759 -1.340720 -2.803389  2.953959   \n",
       "2 -0.188119 -0.467599 -0.438443  ...  1.412459 -0.096511 -0.078653  0.320290   \n",
       "3  0.645889  0.676048  0.659063  ... -0.524286  2.590564  1.319239  1.085825   \n",
       "4  0.510074  1.183520 -0.703154  ...  1.316142  2.843449  0.487614 -0.336858   \n",
       "\n",
       "         45        46        47        48        49                  50  \n",
       "0 -1.210708  0.018973 -2.066191 -2.047388  0.340610     computer vision  \n",
       "1  2.749169 -0.246176  0.167863  2.535898  2.245542           political  \n",
       "2 -0.105544  1.505233 -0.254141 -0.322210  1.313339  autonomous vehicle  \n",
       "3  2.282317 -1.031726 -0.018153 -0.474326  0.046656     computer vision  \n",
       "4  1.732589  0.694663 -0.933902 -1.002878  0.285510     computer vision  \n",
       "\n",
       "[5 rows x 51 columns]"
      ]
     },
     "execution_count": 43,
     "metadata": {},
     "output_type": "execute_result"
    }
   ],
   "source": [
    "dataset = pd.read_csv('/app/Embedding/dataframes/doc2vet_embedding.csv')\n",
    "dataset.head()\n"
   ]
  },
  {
   "cell_type": "code",
   "execution_count": 44,
   "metadata": {},
   "outputs": [],
   "source": [
    "X = dataset.iloc[:, :-1].values\n",
    "y = dataset.iloc[:, 50].values"
   ]
  },
  {
   "cell_type": "code",
   "execution_count": 45,
   "metadata": {},
   "outputs": [],
   "source": [
    "from sklearn.model_selection import train_test_split\n",
    "X_train, X_test, y_train, y_test = train_test_split(X, y, test_size=0.10)"
   ]
  },
  {
   "cell_type": "code",
   "execution_count": 46,
   "metadata": {},
   "outputs": [],
   "source": [
    "from sklearn.preprocessing import StandardScaler\n",
    "scaler = StandardScaler()\n",
    "scaler.fit(X_train)\n",
    "\n",
    "X_train = scaler.transform(X_train)\n",
    "X_test = scaler.transform(X_test)"
   ]
  },
  {
   "cell_type": "code",
   "execution_count": 47,
   "metadata": {},
   "outputs": [
    {
     "data": {
      "text/plain": [
       "KNeighborsClassifier(n_neighbors=8)"
      ]
     },
     "execution_count": 47,
     "metadata": {},
     "output_type": "execute_result"
    }
   ],
   "source": [
    "from sklearn.neighbors import KNeighborsClassifier\n",
    "classifier = KNeighborsClassifier(n_neighbors=8)\n",
    "classifier.fit(X_train, y_train)"
   ]
  },
  {
   "cell_type": "code",
   "execution_count": 48,
   "metadata": {},
   "outputs": [],
   "source": [
    "y_pred = classifier.predict(X_test)"
   ]
  },
  {
   "cell_type": "code",
   "execution_count": 49,
   "metadata": {},
   "outputs": [
    {
     "name": "stdout",
     "output_type": "stream",
     "text": [
      "[[899   1  21  21   1   5  33   9   0]\n",
      " [  0 130   1   1   0   0   0   3   0]\n",
      " [ 79   7 795   8  62  11  23  22   0]\n",
      " [ 58  34  53 661  75  28  69  24   4]\n",
      " [ 33  26  96  33 736   3  18  26   0]\n",
      " [ 36  17  27  54  11 183  61   5   4]\n",
      " [207  19  39  69  12  58 614   6   1]\n",
      " [  0   4   0   2   0   1   0 264   0]\n",
      " [  0   0   0  16  14   2   0   2   9]]\n",
      "                    precision    recall  f1-score   support\n",
      "\n",
      "                5g       0.69      0.91      0.78       990\n",
      "           anxiety       0.55      0.96      0.70       135\n",
      "autonomous vehicle       0.77      0.79      0.78      1007\n",
      "          big data       0.76      0.66      0.71      1006\n",
      "   computer vision       0.81      0.76      0.78       971\n",
      "     cybersecurity       0.63      0.46      0.53       398\n",
      "               iot       0.75      0.60      0.67      1025\n",
      "         political       0.73      0.97      0.84       271\n",
      "sentence embedding       0.50      0.21      0.30        43\n",
      "\n",
      "          accuracy                           0.73      5846\n",
      "         macro avg       0.69      0.70      0.67      5846\n",
      "      weighted avg       0.74      0.73      0.73      5846\n",
      "\n"
     ]
    }
   ],
   "source": [
    "from sklearn.metrics import classification_report, confusion_matrix\n",
    "print(confusion_matrix(y_test, y_pred))\n",
    "print(classification_report(y_test, y_pred))"
   ]
  }
 ],
 "metadata": {
  "interpreter": {
   "hash": "949777d72b0d2535278d3dc13498b2535136f6dfe0678499012e853ee9abcab1"
  },
  "kernelspec": {
   "display_name": "Python 3.8.12 64-bit",
   "language": "python",
   "name": "python3"
  },
  "language_info": {
   "codemirror_mode": {
    "name": "ipython",
    "version": 3
   },
   "file_extension": ".py",
   "mimetype": "text/x-python",
   "name": "python",
   "nbconvert_exporter": "python",
   "pygments_lexer": "ipython3",
   "version": "3.8.12"
  },
  "orig_nbformat": 4
 },
 "nbformat": 4,
 "nbformat_minor": 2
}
