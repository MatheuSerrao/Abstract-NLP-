{
 "cells": [
  {
   "cell_type": "code",
   "execution_count": 2,
   "metadata": {},
   "outputs": [],
   "source": [
    "import pickle5 as pickle\n",
    "import random\n",
    "import numpy as np\n",
    "\n",
    "with open('../tokens', 'rb') as pickle_file:\n",
    "    tokenized_sent = pickle.load(pickle_file)\n",
    "\n",
    "random.shuffle(tokenized_sent)\n",
    "\n",
    "def cosine(u, v):\n",
    "    return np.dot(u, v) / (np.linalg.norm(u) * np.linalg.norm(v))\n",
    "\n",
    "test_tokens = tokenized_sent[:10000]\n",
    "train_tokens = [' '.join(token[2]) for token in tokenized_sent[10000:]]"
   ]
  },
  {
   "cell_type": "code",
   "execution_count": 3,
   "metadata": {},
   "outputs": [
    {
     "name": "stdout",
     "output_type": "stream",
     "text": [
      "Defaulting to user installation because normal site-packages is not writeable\n",
      "Requirement already satisfied: tensorflow-gpu in /home/jk/.local/lib/python3.8/site-packages (2.8.0)\n",
      "Requirement already satisfied: flatbuffers>=1.12 in /home/jk/.local/lib/python3.8/site-packages (from tensorflow-gpu) (2.0)\n",
      "Requirement already satisfied: opt-einsum>=2.3.2 in /home/jk/.local/lib/python3.8/site-packages (from tensorflow-gpu) (3.3.0)\n",
      "Requirement already satisfied: termcolor>=1.1.0 in /home/jk/.local/lib/python3.8/site-packages (from tensorflow-gpu) (1.1.0)\n",
      "Requirement already satisfied: setuptools in /usr/local/lib/python3.8/site-packages (from tensorflow-gpu) (57.5.0)\n",
      "Requirement already satisfied: typing-extensions>=3.6.6 in /home/jk/.local/lib/python3.8/site-packages (from tensorflow-gpu) (4.1.1)\n",
      "Requirement already satisfied: six>=1.12.0 in /home/jk/.local/lib/python3.8/site-packages (from tensorflow-gpu) (1.16.0)\n",
      "Requirement already satisfied: keras<2.9,>=2.8.0rc0 in /home/jk/.local/lib/python3.8/site-packages (from tensorflow-gpu) (2.8.0)\n",
      "Requirement already satisfied: h5py>=2.9.0 in /home/jk/.local/lib/python3.8/site-packages (from tensorflow-gpu) (3.6.0)\n",
      "Requirement already satisfied: tf-estimator-nightly==2.8.0.dev2021122109 in /home/jk/.local/lib/python3.8/site-packages (from tensorflow-gpu) (2.8.0.dev2021122109)\n",
      "Requirement already satisfied: keras-preprocessing>=1.1.1 in /home/jk/.local/lib/python3.8/site-packages (from tensorflow-gpu) (1.1.2)\n",
      "Requirement already satisfied: grpcio<2.0,>=1.24.3 in /home/jk/.local/lib/python3.8/site-packages (from tensorflow-gpu) (1.44.0)\n",
      "Requirement already satisfied: tensorboard<2.9,>=2.8 in /home/jk/.local/lib/python3.8/site-packages (from tensorflow-gpu) (2.8.0)\n",
      "Requirement already satisfied: absl-py>=0.4.0 in /home/jk/.local/lib/python3.8/site-packages (from tensorflow-gpu) (1.0.0)\n",
      "Requirement already satisfied: astunparse>=1.6.0 in /home/jk/.local/lib/python3.8/site-packages (from tensorflow-gpu) (1.6.3)\n",
      "Requirement already satisfied: wrapt>=1.11.0 in /home/jk/.local/lib/python3.8/site-packages (from tensorflow-gpu) (1.14.0)\n",
      "Requirement already satisfied: google-pasta>=0.1.1 in /home/jk/.local/lib/python3.8/site-packages (from tensorflow-gpu) (0.2.0)\n",
      "Requirement already satisfied: protobuf>=3.9.2 in /home/jk/.local/lib/python3.8/site-packages (from tensorflow-gpu) (3.20.0)\n",
      "Requirement already satisfied: libclang>=9.0.1 in /home/jk/.local/lib/python3.8/site-packages (from tensorflow-gpu) (13.0.0)\n",
      "Requirement already satisfied: tensorflow-io-gcs-filesystem>=0.23.1 in /home/jk/.local/lib/python3.8/site-packages (from tensorflow-gpu) (0.24.0)\n",
      "Requirement already satisfied: numpy>=1.20 in /home/jk/.local/lib/python3.8/site-packages (from tensorflow-gpu) (1.22.3)\n",
      "Requirement already satisfied: gast>=0.2.1 in /home/jk/.local/lib/python3.8/site-packages (from tensorflow-gpu) (0.5.3)\n",
      "Requirement already satisfied: wheel<1.0,>=0.23.0 in /usr/local/lib/python3.8/site-packages (from astunparse>=1.6.0->tensorflow-gpu) (0.37.0)\n",
      "Requirement already satisfied: google-auth-oauthlib<0.5,>=0.4.1 in /home/jk/.local/lib/python3.8/site-packages (from tensorboard<2.9,>=2.8->tensorflow-gpu) (0.4.6)\n",
      "Requirement already satisfied: tensorboard-data-server<0.7.0,>=0.6.0 in /home/jk/.local/lib/python3.8/site-packages (from tensorboard<2.9,>=2.8->tensorflow-gpu) (0.6.1)\n",
      "Requirement already satisfied: requests<3,>=2.21.0 in /home/jk/.local/lib/python3.8/site-packages (from tensorboard<2.9,>=2.8->tensorflow-gpu) (2.27.1)\n",
      "Requirement already satisfied: markdown>=2.6.8 in /home/jk/.local/lib/python3.8/site-packages (from tensorboard<2.9,>=2.8->tensorflow-gpu) (3.3.6)\n",
      "Requirement already satisfied: werkzeug>=0.11.15 in /home/jk/.local/lib/python3.8/site-packages (from tensorboard<2.9,>=2.8->tensorflow-gpu) (2.1.1)\n",
      "Requirement already satisfied: tensorboard-plugin-wit>=1.6.0 in /home/jk/.local/lib/python3.8/site-packages (from tensorboard<2.9,>=2.8->tensorflow-gpu) (1.8.1)\n",
      "Requirement already satisfied: google-auth<3,>=1.6.3 in /home/jk/.local/lib/python3.8/site-packages (from tensorboard<2.9,>=2.8->tensorflow-gpu) (2.6.4)\n",
      "Requirement already satisfied: cachetools<6.0,>=2.0.0 in /home/jk/.local/lib/python3.8/site-packages (from google-auth<3,>=1.6.3->tensorboard<2.9,>=2.8->tensorflow-gpu) (5.0.0)\n",
      "Requirement already satisfied: rsa<5,>=3.1.4 in /home/jk/.local/lib/python3.8/site-packages (from google-auth<3,>=1.6.3->tensorboard<2.9,>=2.8->tensorflow-gpu) (4.8)\n",
      "Requirement already satisfied: pyasn1-modules>=0.2.1 in /home/jk/.local/lib/python3.8/site-packages (from google-auth<3,>=1.6.3->tensorboard<2.9,>=2.8->tensorflow-gpu) (0.2.8)\n",
      "Requirement already satisfied: requests-oauthlib>=0.7.0 in /home/jk/.local/lib/python3.8/site-packages (from google-auth-oauthlib<0.5,>=0.4.1->tensorboard<2.9,>=2.8->tensorflow-gpu) (1.3.1)\n",
      "Requirement already satisfied: importlib-metadata>=4.4 in /home/jk/.local/lib/python3.8/site-packages (from markdown>=2.6.8->tensorboard<2.9,>=2.8->tensorflow-gpu) (4.11.3)\n",
      "Requirement already satisfied: urllib3<1.27,>=1.21.1 in /home/jk/.local/lib/python3.8/site-packages (from requests<3,>=2.21.0->tensorboard<2.9,>=2.8->tensorflow-gpu) (1.26.9)\n",
      "Requirement already satisfied: certifi>=2017.4.17 in /home/jk/.local/lib/python3.8/site-packages (from requests<3,>=2.21.0->tensorboard<2.9,>=2.8->tensorflow-gpu) (2021.10.8)\n",
      "Requirement already satisfied: idna<4,>=2.5 in /home/jk/.local/lib/python3.8/site-packages (from requests<3,>=2.21.0->tensorboard<2.9,>=2.8->tensorflow-gpu) (3.3)\n",
      "Requirement already satisfied: charset-normalizer~=2.0.0 in /home/jk/.local/lib/python3.8/site-packages (from requests<3,>=2.21.0->tensorboard<2.9,>=2.8->tensorflow-gpu) (2.0.12)\n",
      "Requirement already satisfied: zipp>=0.5 in /home/jk/.local/lib/python3.8/site-packages (from importlib-metadata>=4.4->markdown>=2.6.8->tensorboard<2.9,>=2.8->tensorflow-gpu) (3.8.0)\n",
      "Requirement already satisfied: pyasn1<0.5.0,>=0.4.6 in /home/jk/.local/lib/python3.8/site-packages (from pyasn1-modules>=0.2.1->google-auth<3,>=1.6.3->tensorboard<2.9,>=2.8->tensorflow-gpu) (0.4.8)\n",
      "Requirement already satisfied: oauthlib>=3.0.0 in /home/jk/.local/lib/python3.8/site-packages (from requests-oauthlib>=0.7.0->google-auth-oauthlib<0.5,>=0.4.1->tensorboard<2.9,>=2.8->tensorflow-gpu) (3.2.0)\n",
      "Defaulting to user installation because normal site-packages is not writeable\n",
      "Requirement already satisfied: tensorflow-hub in /home/jk/.local/lib/python3.8/site-packages (0.12.0)\n",
      "Requirement already satisfied: numpy>=1.12.0 in /home/jk/.local/lib/python3.8/site-packages (from tensorflow-hub) (1.22.3)\n",
      "Requirement already satisfied: protobuf>=3.8.0 in /home/jk/.local/lib/python3.8/site-packages (from tensorflow-hub) (3.20.0)\n"
     ]
    }
   ],
   "source": [
    "!pip3 install --upgrade tensorflow-gpu\n",
    "# Install TF-Hub.\n",
    "!pip3 install tensorflow-hub"
   ]
  },
  {
   "cell_type": "code",
   "execution_count": 4,
   "metadata": {},
   "outputs": [
    {
     "name": "stderr",
     "output_type": "stream",
     "text": [
      "2022-04-13 13:52:50.486624: W tensorflow/stream_executor/platform/default/dso_loader.cc:64] Could not load dynamic library 'libcudart.so.11.0'; dlerror: libcudart.so.11.0: cannot open shared object file: No such file or directory\n",
      "2022-04-13 13:52:50.486678: I tensorflow/stream_executor/cuda/cudart_stub.cc:29] Ignore above cudart dlerror if you do not have a GPU set up on your machine.\n"
     ]
    }
   ],
   "source": [
    "import tensorflow as tf\n",
    "import tensorflow_hub as hub\n",
    "import numpy as np"
   ]
  },
  {
   "cell_type": "code",
   "execution_count": 5,
   "metadata": {},
   "outputs": [
    {
     "name": "stderr",
     "output_type": "stream",
     "text": [
      "2022-04-13 13:53:52.629688: W tensorflow/stream_executor/platform/default/dso_loader.cc:64] Could not load dynamic library 'libcuda.so.1'; dlerror: libcuda.so.1: cannot open shared object file: No such file or directory\n",
      "2022-04-13 13:53:52.629710: W tensorflow/stream_executor/cuda/cuda_driver.cc:269] failed call to cuInit: UNKNOWN ERROR (303)\n",
      "2022-04-13 13:53:52.629727: I tensorflow/stream_executor/cuda/cuda_diagnostics.cc:163] no NVIDIA GPU device is present: /dev/nvidia0 does not exist\n",
      "2022-04-13 13:53:52.629869: I tensorflow/core/platform/cpu_feature_guard.cc:151] This TensorFlow binary is optimized with oneAPI Deep Neural Network Library (oneDNN) to use the following CPU instructions in performance-critical operations:  AVX2 FMA\n",
      "To enable them in other operations, rebuild TensorFlow with the appropriate compiler flags.\n"
     ]
    },
    {
     "name": "stdout",
     "output_type": "stream",
     "text": [
      "module https://tfhub.dev/google/universal-sentence-encoder/4 loaded\n"
     ]
    }
   ],
   "source": [
    "module_url = \"https://tfhub.dev/google/universal-sentence-encoder/4\" \n",
    "model = hub.load(module_url)\n",
    "print (\"module %s loaded\" % module_url)"
   ]
  },
  {
   "cell_type": "code",
   "execution_count": 7,
   "metadata": {},
   "outputs": [
    {
     "name": "stderr",
     "output_type": "stream",
     "text": [
      "2022-04-13 14:02:26.030296: W tensorflow/core/framework/cpu_allocator_impl.cc:82] Allocation of 188241096 exceeds 10% of free system memory.\n",
      "2022-04-13 14:02:26.231228: W tensorflow/core/framework/cpu_allocator_impl.cc:82] Allocation of 482641680 exceeds 10% of free system memory.\n",
      "2022-04-13 14:02:26.544498: W tensorflow/core/framework/cpu_allocator_impl.cc:82] Allocation of 481478688 exceeds 10% of free system memory.\n",
      "2022-04-13 14:02:26.730803: W tensorflow/core/framework/cpu_allocator_impl.cc:82] Allocation of 482641680 exceeds 10% of free system memory.\n",
      "2022-04-13 14:02:26.947588: W tensorflow/core/framework/cpu_allocator_impl.cc:82] Allocation of 482641680 exceeds 10% of free system memory.\n"
     ]
    }
   ],
   "source": [
    "sentence_embeddings = model(train_tokens)"
   ]
  },
  {
   "cell_type": "code",
   "execution_count": 9,
   "metadata": {},
   "outputs": [],
   "source": [
    "query = ''.join(test_tokens[0][2])\n",
    "query_vec = model([query])[0]"
   ]
  },
  {
   "cell_type": "code",
   "execution_count": 11,
   "metadata": {},
   "outputs": [
    {
     "name": "stdout",
     "output_type": "stream",
     "text": [
      "Sentence =  the paramount aim of this paper is to develop a hybrid cooperative communication enabled 5g wireless sensor network hcc with an improved throughput a reliable message oriented and infrastructure based transport protocol termed stream control transmission protocol sctp can be preferred with the purpose to enrich the throughput through a hybrid approach instead of proactive and reactive approaches seperately in the sctp combines an amalgamation of advanced and unique features of multistreaming and multihoming techniques that are not available in transmission control protocol tcp which adds an attractive property in the form of enhancing throughput a quality of service qos parameter throughput has been calculated for the proposed scheme under the hybrid environment proactive and reactive scenarios under cooperative communication by selecting shortest cooperative relay nodes the comparative analysis of the results specifies the throughput enrichment over the tcp is 22 and 17 in proactive approach and reactive approach respectively but using sctp proactive and reactive methods obtained with 38 and 44 respectively as better throughput enhancement comparatively from the experimental results the proposed hybrid cooperative communication enabled using sctp has got an edge over other methods in improved throughput as 54 which shows a better performance of ; similarity =  -0.004185183\n",
      "Sentence =  with exponential growth of vast amount of data or traffic or information from various heterogeneous iot devices stumbles the network as a result the response time of data delivery from cloud to end iot devices turns to high latency network traffic data congestion consume high bandwidth huge power consumption curb the development of iot specifically in the time sensitive applications for instance health related services and traffic light systems etc in order to cope up with mass connections surplus data management and resource allocation for billions of iot devices the new paradigm has been emerged known as fog computing also called edge computing fog means closer to ground in fog computing resource allocation the main challenge is considered in this paper the following challenges in resource allocation are i iot devices might be shortcomings in their capacity eg data processor memory cpu bandwidth etc ii shortcoming in their network resources iii increased latency or response time to the centralized data server from iot devices by considering the following issues we have presented the model or architecture for iot service delegation to mitigate the network latency and improve the quality of service qos and proposed algorithm for optimizing in terms of capacity and big data distribution among fog and cloud computing ; similarity =  -0.035259034\n",
      "Sentence =  the big data accumulated during the operation of the airport has important research value however these data often have the characteristics of clutter redundancy incompleteness and noise and can not be used directly the original data needs to be this paper designs an interpolation algorithm based on k nearest neighbors knn which is used to solve the passenger flow statistical error caused by abnormal time data of passenger and the feasibility of the method is verified by experiments experimental results show that this method can effectively solve the problem of abnormal passenger flow data ; similarity =  0.025601497\n",
      "Sentence =  stract this chapter presents a case for the 5g and motivation for writing the book it summarizes a few of the key developments in 3rd generation partnership project evolution the chapter introduces the capacity regions of multiuser cellular network by defining three basic channels in the multiuser network namely multiple access channel broadcast channel and interference channel it also presents a brief overview of the different types of fading channels which are most commonly used in practical mobile communications the chapter discusses an important issue associated with mobile communications that is the impact of co 2 emissions by active mobile networks it describes a power consumption model that includes contribution from power amplifier small signal radio frequency transceivers baseband units power supply and system active cooling the chapter considers the carbon emissions due to cellular networks and examines the possibilities of green heterogeneous network ; similarity =  -0.0045092627\n",
      "Sentence =  encryption is now ubiquitous on the internet by securing network communications with tls parties can insure that data remains inaccessible to collection and analysis in the iot domain however encryption can paradoxically decrease user privacy as many iot devices establish encrypted communications with the manufacturer cloud backend the content of these communications remains opaque to the user and in several occasions iot devices have been discovered to exfiltrate private information voice recordings without user authorization in this paper we propose tls an middleware protocol that preserves the encryption offered by tls while allowing traffic analysis by middleboxes under the user control differently from related efforts is designed from the ground up for the iot world adding limited complexity on top of tls and being fully controllable by the residential gateway at the same time it provides flexibility enabling the user to offload traffic analysis to either the gateway itself or middleboxes we implemented a stable prototype library preliminary results show that performance overhead is limited and unlikely to affect ; similarity =  0.043357484\n",
      "Sentence =  5g empowers a novel network that is envisioned to unite all the appliances machines and gadgets effectively 5g introduces wide bandwidth with the extension of additional frequency spectrum resources the 5g network is capable of working both in lower bands like and and also works in millimetre wave spectrum including that helps achieve higher data rate gain efficiency and reduced delay high performance wideband high gain compact size and low profile millimetre wave antennas are required for 5g enabled applications to achieve interference free communication this article presents a microstrip array antenna for millimetre wave applications that resonates in dual bands at green flexible radio frequency range the antenna array uses parallel feeding technique the artistic slots introduced in the patches round and opposite corner fillets result in dual frequency resonance at 57ghz and 60ghz the proposed small array design with size of 2 8 and defected ground results in better gain directivity efficiency which is suitable for 5g communication ; similarity =  -0.0065243915\n",
      "Sentence =  recent advancements in the field of communication control and embedded systems have triggered researchers to develop intelligent transportation system which can be ubiquitous smart and autonomous this paper presents the implementation of an autonomous driving car system for an electric vehicle branded as toyota ha mo the main objective of this work is to maximize the utilization of these available electric vehicles on campus by autonomously moving them from underutilized areas to an area where they are in high demand our indigenously developed system includes an arduino based motor control system for steering a camera and image processing subsystem for a lane detection and road sense intelligence and a global position system gps module for outdoor localization for experimental purpose the autonomous system was installed on an electric vehicle the results show that the autonomous electric vehicle passes the autonomous steering test for the required turning radius and achieves almost every benchmark set by toyota therefore our work provides a promising foundation for efficient utilization of resources in a transportation system and opening new horizons for further enhancements and improvements ; similarity =  -0.032316007\n",
      "Sentence =  in this paper we present an autonomous monitoring method for multiple quadcopters via dynamic coverage control with an accurate model of a quadcopter that is an exact linearization a quadcopter that is a nonlinear model is applied a hierarchical linearization because that model is difficult to design a controller the hierarchical linearization accomplishes an exact by linearizing without an approximation linearization and can control accurately a control object we design a controller that uses an exact linearized model of quadcopter to realize monitoring using quadcopters in this research the dynamic coverage control realizes by focusing on a density distribution about a conventional coverage control is able to handle flexibly to a changing situation the density distribution is changed depending on sensing a quadcopter is attracted to an unobserved area via that distribution in addition when the quadcopter detects an invader the quadcopter is able to chase it by giving a density distribution to the invader purpose of this paper is quadcopters accomplish autonomous monitoring that combines an obstacle avoidance autonomous patrol around a task area and invader detection and following a nunmerical simulation is performed to verify the behavior of the proposed method ; similarity =  0.007379926\n",
      "Sentence =  in this paper we investigate the problem of robot swarm control in 5g robotic applications in an automated warehouse scenario such application requires both the kinematic energy consumption of the robots and the and low latency communication urllc between the central controller and the robot swarm to be jointly optimized in the problem is formulated as a nonconvex optimization problem since the achievable rate and decoding error probability with short are neither convex nor concave in bandwidth and transmit power we propose a deep reinforcement learning drl based approach that employs the deep deterministic policy gradient ddpg method and convolutional neural network cnn to achieve a stationary optimal control policy that consists of a number of continuous and discrete actions numerical results show that our proposed ddpg algorithm achieves a performance close to the optimal baseline and outperforms the ddpg in terms of decoding error probability and energy efficiency ; similarity =  -0.042946722\n",
      "Sentence =  with the rapid development of internet technologies such as big data and artificial intelligence chat robots have begun to enter people daily life providing a lot of convenience for people life and work at present many research institutions focus on the research and development of chat robots but this field is still in its infancy and chat robots in the market are more or less deficient based on the deep learning technology in big data this paper constructs and trains the model of attention mechanism and realizes the generative dialogue chat robot in the open field which can intelligently generate smooth responses according to the wide input of users the model is implemented by deep learning tensorflow coding library and the results show that the model proposed in this paper is better than the traditional language model in continuous and meaningful dialogue ; similarity =  -0.080774926\n"
     ]
    }
   ],
   "source": [
    "for sent in train_tokens[:10]:\n",
    "  sim = cosine(query_vec, model([sent])[0])\n",
    "  print(\"Sentence = \", sent, \"; similarity = \", sim)"
   ]
  }
 ],
 "metadata": {
  "interpreter": {
   "hash": "949777d72b0d2535278d3dc13498b2535136f6dfe0678499012e853ee9abcab1"
  },
  "kernelspec": {
   "display_name": "Python 3.8.12 64-bit",
   "language": "python",
   "name": "python3"
  },
  "language_info": {
   "codemirror_mode": {
    "name": "ipython",
    "version": 3
   },
   "file_extension": ".py",
   "mimetype": "text/x-python",
   "name": "python",
   "nbconvert_exporter": "python",
   "pygments_lexer": "ipython3",
   "version": "3.8.12"
  },
  "orig_nbformat": 4
 },
 "nbformat": 4,
 "nbformat_minor": 2
}
