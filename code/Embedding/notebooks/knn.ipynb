{
 "cells": [
  {
   "cell_type": "code",
   "execution_count": 24,
   "metadata": {},
   "outputs": [],
   "source": [
    "import numpy as np\n",
    "import matplotlib.pyplot as plt\n",
    "import pandas as pd"
   ]
  },
  {
   "cell_type": "code",
   "execution_count": 26,
   "metadata": {},
   "outputs": [
    {
     "data": {
      "text/html": [
       "<div>\n",
       "<style scoped>\n",
       "    .dataframe tbody tr th:only-of-type {\n",
       "        vertical-align: middle;\n",
       "    }\n",
       "\n",
       "    .dataframe tbody tr th {\n",
       "        vertical-align: top;\n",
       "    }\n",
       "\n",
       "    .dataframe thead th {\n",
       "        text-align: right;\n",
       "    }\n",
       "</style>\n",
       "<table border=\"1\" class=\"dataframe\">\n",
       "  <thead>\n",
       "    <tr style=\"text-align: right;\">\n",
       "      <th></th>\n",
       "      <th>0.011135019</th>\n",
       "      <th>-0.034410488</th>\n",
       "      <th>-0.05080807</th>\n",
       "      <th>0.0082706865</th>\n",
       "      <th>0.044154685</th>\n",
       "      <th>0.046885874</th>\n",
       "      <th>-0.002305564</th>\n",
       "      <th>0.033856846</th>\n",
       "      <th>-0.011727817</th>\n",
       "      <th>0.060213666</th>\n",
       "      <th>...</th>\n",
       "      <th>-0.06272057</th>\n",
       "      <th>-0.0145490775</th>\n",
       "      <th>-0.06080339</th>\n",
       "      <th>0.022973256</th>\n",
       "      <th>-0.024654124</th>\n",
       "      <th>0.06089911</th>\n",
       "      <th>0.033888433</th>\n",
       "      <th>-0.017606566</th>\n",
       "      <th>-0.05352775</th>\n",
       "      <th>anxiety</th>\n",
       "    </tr>\n",
       "  </thead>\n",
       "  <tbody>\n",
       "    <tr>\n",
       "      <th>0</th>\n",
       "      <td>0.055683</td>\n",
       "      <td>0.056129</td>\n",
       "      <td>0.032918</td>\n",
       "      <td>-0.054384</td>\n",
       "      <td>0.057507</td>\n",
       "      <td>-0.056221</td>\n",
       "      <td>0.021612</td>\n",
       "      <td>-0.038179</td>\n",
       "      <td>0.057070</td>\n",
       "      <td>0.051451</td>\n",
       "      <td>...</td>\n",
       "      <td>-0.058993</td>\n",
       "      <td>-0.053008</td>\n",
       "      <td>-0.053664</td>\n",
       "      <td>0.033262</td>\n",
       "      <td>0.057798</td>\n",
       "      <td>0.003701</td>\n",
       "      <td>-0.021499</td>\n",
       "      <td>-0.054971</td>\n",
       "      <td>-0.012387</td>\n",
       "      <td>autonomous vehicle</td>\n",
       "    </tr>\n",
       "    <tr>\n",
       "      <th>1</th>\n",
       "      <td>0.011289</td>\n",
       "      <td>0.062801</td>\n",
       "      <td>-0.051032</td>\n",
       "      <td>-0.061473</td>\n",
       "      <td>0.049657</td>\n",
       "      <td>-0.041211</td>\n",
       "      <td>-0.032785</td>\n",
       "      <td>0.052089</td>\n",
       "      <td>-0.063731</td>\n",
       "      <td>0.049298</td>\n",
       "      <td>...</td>\n",
       "      <td>-0.068041</td>\n",
       "      <td>-0.065129</td>\n",
       "      <td>-0.027780</td>\n",
       "      <td>0.062614</td>\n",
       "      <td>0.010739</td>\n",
       "      <td>0.059879</td>\n",
       "      <td>0.040236</td>\n",
       "      <td>-0.022578</td>\n",
       "      <td>0.000560</td>\n",
       "      <td>iot</td>\n",
       "    </tr>\n",
       "    <tr>\n",
       "      <th>2</th>\n",
       "      <td>-0.018277</td>\n",
       "      <td>-0.055102</td>\n",
       "      <td>0.028916</td>\n",
       "      <td>0.008216</td>\n",
       "      <td>-0.055602</td>\n",
       "      <td>-0.054291</td>\n",
       "      <td>-0.042487</td>\n",
       "      <td>-0.003218</td>\n",
       "      <td>0.002576</td>\n",
       "      <td>0.012928</td>\n",
       "      <td>...</td>\n",
       "      <td>-0.061408</td>\n",
       "      <td>-0.017785</td>\n",
       "      <td>-0.053553</td>\n",
       "      <td>0.056751</td>\n",
       "      <td>-0.049993</td>\n",
       "      <td>-0.028755</td>\n",
       "      <td>0.047430</td>\n",
       "      <td>-0.058397</td>\n",
       "      <td>-0.013559</td>\n",
       "      <td>cybersecurity</td>\n",
       "    </tr>\n",
       "    <tr>\n",
       "      <th>3</th>\n",
       "      <td>-0.033637</td>\n",
       "      <td>-0.040760</td>\n",
       "      <td>-0.048334</td>\n",
       "      <td>0.010415</td>\n",
       "      <td>0.035124</td>\n",
       "      <td>-0.040053</td>\n",
       "      <td>0.056717</td>\n",
       "      <td>0.059027</td>\n",
       "      <td>0.041808</td>\n",
       "      <td>-0.003748</td>\n",
       "      <td>...</td>\n",
       "      <td>-0.070625</td>\n",
       "      <td>-0.057200</td>\n",
       "      <td>0.016933</td>\n",
       "      <td>0.061258</td>\n",
       "      <td>0.011347</td>\n",
       "      <td>0.045915</td>\n",
       "      <td>0.047511</td>\n",
       "      <td>-0.065168</td>\n",
       "      <td>0.043834</td>\n",
       "      <td>5g</td>\n",
       "    </tr>\n",
       "    <tr>\n",
       "      <th>4</th>\n",
       "      <td>-0.034683</td>\n",
       "      <td>-0.020007</td>\n",
       "      <td>-0.038721</td>\n",
       "      <td>-0.056459</td>\n",
       "      <td>0.033053</td>\n",
       "      <td>0.025431</td>\n",
       "      <td>-0.045199</td>\n",
       "      <td>0.028089</td>\n",
       "      <td>0.057768</td>\n",
       "      <td>0.054189</td>\n",
       "      <td>...</td>\n",
       "      <td>-0.062242</td>\n",
       "      <td>-0.043655</td>\n",
       "      <td>0.045409</td>\n",
       "      <td>-0.040571</td>\n",
       "      <td>0.061975</td>\n",
       "      <td>0.035103</td>\n",
       "      <td>0.061329</td>\n",
       "      <td>-0.057664</td>\n",
       "      <td>-0.024088</td>\n",
       "      <td>autonomous vehicle</td>\n",
       "    </tr>\n",
       "  </tbody>\n",
       "</table>\n",
       "<p>5 rows × 513 columns</p>\n",
       "</div>"
      ],
      "text/plain": [
       "   0.011135019  -0.034410488  -0.05080807  0.0082706865  0.044154685  \\\n",
       "0     0.055683      0.056129     0.032918     -0.054384     0.057507   \n",
       "1     0.011289      0.062801    -0.051032     -0.061473     0.049657   \n",
       "2    -0.018277     -0.055102     0.028916      0.008216    -0.055602   \n",
       "3    -0.033637     -0.040760    -0.048334      0.010415     0.035124   \n",
       "4    -0.034683     -0.020007    -0.038721     -0.056459     0.033053   \n",
       "\n",
       "   0.046885874  -0.002305564  0.033856846  -0.011727817  0.060213666  ...  \\\n",
       "0    -0.056221      0.021612    -0.038179      0.057070     0.051451  ...   \n",
       "1    -0.041211     -0.032785     0.052089     -0.063731     0.049298  ...   \n",
       "2    -0.054291     -0.042487    -0.003218      0.002576     0.012928  ...   \n",
       "3    -0.040053      0.056717     0.059027      0.041808    -0.003748  ...   \n",
       "4     0.025431     -0.045199     0.028089      0.057768     0.054189  ...   \n",
       "\n",
       "   -0.06272057  -0.0145490775  -0.06080339  0.022973256  -0.024654124  \\\n",
       "0    -0.058993      -0.053008    -0.053664     0.033262      0.057798   \n",
       "1    -0.068041      -0.065129    -0.027780     0.062614      0.010739   \n",
       "2    -0.061408      -0.017785    -0.053553     0.056751     -0.049993   \n",
       "3    -0.070625      -0.057200     0.016933     0.061258      0.011347   \n",
       "4    -0.062242      -0.043655     0.045409    -0.040571      0.061975   \n",
       "\n",
       "   0.06089911  0.033888433  -0.017606566  -0.05352775             anxiety  \n",
       "0    0.003701    -0.021499     -0.054971    -0.012387  autonomous vehicle  \n",
       "1    0.059879     0.040236     -0.022578     0.000560                 iot  \n",
       "2   -0.028755     0.047430     -0.058397    -0.013559       cybersecurity  \n",
       "3    0.045915     0.047511     -0.065168     0.043834                  5g  \n",
       "4    0.035103     0.061329     -0.057664    -0.024088  autonomous vehicle  \n",
       "\n",
       "[5 rows x 513 columns]"
      ]
     },
     "execution_count": 26,
     "metadata": {},
     "output_type": "execute_result"
    }
   ],
   "source": [
    "# dataset = pd.read_csv('/app/Embedding/dataframes/doc2vet_embedding.csv')\n",
    "# dataset = pd.read_csv('/app/Embedding/dataframes/infer_sent_embedding.csv')\n",
    "# dataset = pd.read_csv('/app/Embedding/dataframes/sentence_bert_embedding.csv')\n",
    "dataset = pd.read_csv('/app/Embedding/dataframes/universal_sentence_python.csv')\n",
    "dataset.head()"
   ]
  },
  {
   "cell_type": "code",
   "execution_count": 27,
   "metadata": {},
   "outputs": [],
   "source": [
    "X = dataset.iloc[:, :-1].values\n",
    "y = dataset.iloc[:, 512].values\n",
    "y = pd.factorize(y)[0]"
   ]
  },
  {
   "cell_type": "code",
   "execution_count": 28,
   "metadata": {},
   "outputs": [
    {
     "data": {
      "text/plain": [
       "StandardScaler()"
      ]
     },
     "execution_count": 28,
     "metadata": {},
     "output_type": "execute_result"
    }
   ],
   "source": [
    "from sklearn.preprocessing import StandardScaler\n",
    "scaler = StandardScaler()\n",
    "scaler.fit(X)"
   ]
  },
  {
   "cell_type": "code",
   "execution_count": 29,
   "metadata": {},
   "outputs": [],
   "source": [
    "X = scaler.transform(X)"
   ]
  },
  {
   "cell_type": "code",
   "execution_count": 30,
   "metadata": {},
   "outputs": [],
   "source": [
    "from sklearn.model_selection import train_test_split\n",
    "X_train, X_test, y_train, y_test = train_test_split(X, y, test_size=0.10)"
   ]
  },
  {
   "cell_type": "code",
   "execution_count": 31,
   "metadata": {},
   "outputs": [
    {
     "data": {
      "text/plain": [
       "KNeighborsClassifier(n_neighbors=4)"
      ]
     },
     "execution_count": 31,
     "metadata": {},
     "output_type": "execute_result"
    }
   ],
   "source": [
    "from sklearn.neighbors import KNeighborsClassifier\n",
    "classifier = KNeighborsClassifier(n_neighbors=4)\n",
    "classifier.fit(X_train, y_train)"
   ]
  },
  {
   "cell_type": "code",
   "execution_count": 32,
   "metadata": {},
   "outputs": [],
   "source": [
    "y_pred = classifier.predict(X_test)"
   ]
  },
  {
   "cell_type": "code",
   "execution_count": 33,
   "metadata": {},
   "outputs": [
    {
     "name": "stdout",
     "output_type": "stream",
     "text": [
      "[[863  29  13  23   7  21   0   0   0]\n",
      " [ 44 823  18  70  48  18   0   0   1]\n",
      " [ 40  85 186  20  57  17   0   0   0]\n",
      " [ 38 108  12 829  18   6   0   0   1]\n",
      " [ 43 114  30  23 725  79   3   2   7]\n",
      " [ 95  24  12   5  56 754   0   2   1]\n",
      " [  2   1   1   0   4   3 250   3   0]\n",
      " [  0   0   1   0   1   1   1 150   0]\n",
      " [  1   1   0   0  14  11   0   0  31]]\n",
      "              precision    recall  f1-score   support\n",
      "\n",
      "           0       0.77      0.90      0.83       956\n",
      "           1       0.69      0.81      0.75      1022\n",
      "           2       0.68      0.46      0.55       405\n",
      "           3       0.85      0.82      0.84      1012\n",
      "           4       0.78      0.71      0.74      1026\n",
      "           5       0.83      0.79      0.81       949\n",
      "           6       0.98      0.95      0.97       264\n",
      "           7       0.96      0.97      0.96       154\n",
      "           8       0.76      0.53      0.63        58\n",
      "\n",
      "    accuracy                           0.79      5846\n",
      "   macro avg       0.81      0.77      0.79      5846\n",
      "weighted avg       0.79      0.79      0.79      5846\n",
      "\n"
     ]
    }
   ],
   "source": [
    "from sklearn.metrics import classification_report, confusion_matrix\n",
    "print(confusion_matrix(y_test, y_pred))\n",
    "print(classification_report(y_test, y_pred))"
   ]
  },
  {
   "cell_type": "code",
   "execution_count": 34,
   "metadata": {},
   "outputs": [
    {
     "name": "stdout",
     "output_type": "stream",
     "text": [
      "[0.7949025  0.78994184 0.78977078 0.78857338 0.8032843  0.79148135\n",
      " 0.79387615 0.79178785 0.79041916 0.79007699]\n"
     ]
    }
   ],
   "source": [
    "from sklearn.model_selection import KFold, cross_val_score\n",
    "\n",
    "n_splits = 10\n",
    "kf = KFold(n_splits)\n",
    "\n",
    "scores = cross_val_score(classifier, X, y, cv=10, scoring='accuracy')\n",
    "print(scores)"
   ]
  }
 ],
 "metadata": {
  "interpreter": {
   "hash": "949777d72b0d2535278d3dc13498b2535136f6dfe0678499012e853ee9abcab1"
  },
  "kernelspec": {
   "display_name": "Python 3.8.12 64-bit",
   "language": "python",
   "name": "python3"
  },
  "language_info": {
   "codemirror_mode": {
    "name": "ipython",
    "version": 3
   },
   "file_extension": ".py",
   "mimetype": "text/x-python",
   "name": "python",
   "nbconvert_exporter": "python",
   "pygments_lexer": "ipython3",
   "version": "3.8.12"
  },
  "orig_nbformat": 4
 },
 "nbformat": 4,
 "nbformat_minor": 2
}
